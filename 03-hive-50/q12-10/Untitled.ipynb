{
 "cells": [
  {
   "cell_type": "code",
   "execution_count": 1,
   "metadata": {},
   "outputs": [],
   "source": [
    "%load_ext bigdata\n",
    "%timeout 300"
   ]
  },
  {
   "cell_type": "code",
   "execution_count": 2,
   "metadata": {},
   "outputs": [
    {
     "name": "stdout",
     "output_type": "stream",
     "text": [
      "DROP TABLE IF EXISTS t0;\n",
      "OK\n",
      "Time taken: 8.838 seconds\n",
      "CREATE TABLE t0 (\n",
      "    c1 STRING,\n",
      "    c2 ARRAY<CHAR(1)>, \n",
      "    c3 MAP<STRING, INT>\n",
      "    )\n",
      "    ROW FORMAT DELIMITED \n",
      "        FIELDS TERMINATED BY '\\t'\n",
      "        COLLECTION ITEMS TERMINATED BY ','\n",
      "        MAP KEYS TERMINATED BY '#'\n",
      "        LINES TERMINATED BY '\\n';\n",
      "OK\n",
      "Time taken: 0.61 seconds\n",
      "LOAD DATA LOCAL INPATH 'data.tsv' INTO TABLE t0;\n",
      "Loading data to table default.t0\n",
      "OK\n",
      "Time taken: 1.09 seconds\n"
     ]
    }
   ],
   "source": [
    "%%hive\n",
    "DROP TABLE IF EXISTS t0;\n",
    "CREATE TABLE t0 (\n",
    "    c1 STRING,\n",
    "    c2 ARRAY<CHAR(1)>, \n",
    "    c3 MAP<STRING, INT>\n",
    "    )\n",
    "    ROW FORMAT DELIMITED \n",
    "        FIELDS TERMINATED BY '\\t'\n",
    "        COLLECTION ITEMS TERMINATED BY ','\n",
    "        MAP KEYS TERMINATED BY '#'\n",
    "        LINES TERMINATED BY '\\n';\n",
    "LOAD DATA LOCAL INPATH 'data.tsv' INTO TABLE t0;"
   ]
  },
  {
   "cell_type": "code",
   "execution_count": 7,
   "metadata": {},
   "outputs": [
    {
     "name": "stdout",
     "output_type": "stream",
     "text": [
      "nt(1) as string))\",\", cast(key1 as string), cast(key2 as string), cast(cou \n",
      "FROM t0\n",
      "LATERAL VIEW EXPLODE(c2) a as key1\n",
      "LATERAL VIEW EXPLODE(c3) b as key2,val\n",
      "GROUP BY key1, key2;\n",
      "WARNING: Hive-on-MR is deprecated in Hive 2 and may not be available in the future versions. Consider using a different execution engine (i.e. spark, tez) or using Hive 1.X releases.\n",
      "Query ID = root_20200110201428_dbbb3a25-fbe1-4d85-8fd2-6a0a5bb236f1\n",
      "Total jobs = 1\n",
      "Launching Job 1 out of 1\n",
      "Number of reduce tasks not specified. Estimated from input data size: 1\n",
      "In order to change the average load for a reducer (in bytes):\n",
      "  set hive.exec.reducers.bytes.per.reducer=<number>\n",
      "In order to limit the maximum number of reducers:\n",
      "  set hive.exec.reducers.max=<number>\n",
      "In order to set a constant number of reducers:\n",
      "  set mapreduce.job.reduces=<number>\n",
      "Starting Job = job_1578683522537_0010, Tracking URL = http://1c2526b1a65e:8088/proxy/application_1578683522537_0010/\n",
      "Kill Command = /usr/local/hadoop/bin/hadoop job  -kill job_1578683522537_0010\n",
      "Hadoop job information for Stage-1: number of mappers: 1; number of reducers: 1\n",
      "2020-01-10 20:14:34,585 Stage-1 map = 0%,  reduce = 0%\n",
      "2020-01-10 20:14:39,977 Stage-1 map = 100%,  reduce = 0%, Cumulative CPU 1.6 sec\n",
      "2020-01-10 20:14:46,475 Stage-1 map = 100%,  reduce = 100%, Cumulative CPU 4.35 sec\n",
      "MapReduce Total cumulative CPU time: 4 seconds 350 msec\n",
      "Ended Job = job_1578683522537_0010\n",
      "MapReduce Jobs Launched: \n",
      "Stage-Stage-1: Map: 1  Reduce: 1   Cumulative CPU: 4.35 sec   HDFS Read: 15322 HDFS Write: 1500 SUCCESS\n",
      "Total MapReduce CPU Time Spent: 4 seconds 350 msec\n",
      "OK\n",
      "a,aaa,5\n",
      "a,bbb,7\n",
      "a,ccc,13\n",
      "a,ddd,13\n",
      "a,eee,7\n",
      "a,fff,10\n",
      "a,ggg,8\n",
      "a,hhh,8\n",
      "a,iii,7\n",
      "a,jjj,10\n",
      "b,aaa,4\n",
      "b,bbb,7\n",
      "b,ccc,5\n",
      "b,ddd,7\n",
      "b,eee,5\n",
      "b,fff,8\n",
      "b,ggg,4\n",
      "b,hhh,7\n",
      "b,iii,7\n",
      "b,jjj,5\n",
      "c,aaa,5\n",
      "c,bbb,4\n",
      "c,ccc,12\n",
      "c,ddd,9\n",
      "c,eee,6\n",
      "c,fff,8\n",
      "c,ggg,7\n",
      "c,hhh,7\n",
      "c,iii,8\n",
      "c,jjj,8\n",
      "d,aaa,4\n",
      "d,bbb,6\n",
      "d,ccc,7\n",
      "d,ddd,5\n",
      "d,eee,6\n",
      "d,fff,8\n",
      "d,ggg,6\n",
      "d,hhh,4\n",
      "d,iii,9\n",
      "d,jjj,8\n",
      "e,aaa,3\n",
      "e,bbb,8\n",
      "e,ccc,9\n",
      "e,ddd,7\n",
      "e,eee,7\n",
      "e,fff,9\n",
      "e,ggg,4\n",
      "e,hhh,4\n",
      "e,iii,8\n",
      "e,jjj,3\n",
      "f,aaa,8\n",
      "f,bbb,10\n",
      "f,ccc,13\n",
      "f,ddd,17\n",
      "f,eee,11\n",
      "f,fff,11\n",
      "f,ggg,9\n",
      "f,hhh,10\n",
      "f,iii,10\n",
      "f,jjj,12\n",
      "g,aaa,3\n",
      "g,bbb,3\n",
      "g,ccc,6\n",
      "g,ddd,5\n",
      "g,eee,4\n",
      "g,fff,5\n",
      "g,ggg,4\n",
      "g,hhh,3\n",
      "g,iii,4\n",
      "g,jjj,6\n",
      "Time taken: 18.774 seconds, Fetched: 70 row(s)\n"
     ]
    }
   ],
   "source": [
    "%%hive\n",
    "SELECT concat_ws(\",\", cast(key1 as string), cast(key2 as string), cast(count(1) as string))\n",
    "FROM t0\n",
    "LATERAL VIEW EXPLODE(c2) a as key1\n",
    "LATERAL VIEW EXPLODE(c3) b as key2,val\n",
    "GROUP BY key1, key2;"
   ]
  },
  {
   "cell_type": "code",
   "execution_count": 1,
   "metadata": {},
   "outputs": [
    {
     "name": "stdout",
     "output_type": "stream",
     "text": [
      "SLF4J: Class path contains multiple SLF4J bindings.\n",
      "SLF4J: Found binding in [jar:file:/usr/local/hive/lib/log4j-slf4j-impl-2.6.2.jar!/org/slf4j/impl/StaticLoggerBinder.class]\n",
      "SLF4J: Found binding in [jar:file:/usr/local/hadoop/share/hadoop/common/lib/slf4j-log4j12-1.7.10.jar!/org/slf4j/impl/StaticLoggerBinder.class]\n",
      "SLF4J: See http://www.slf4j.org/codes.html#multiple_bindings for an explanation.\n",
      "SLF4J: Actual binding is of type [org.apache.logging.slf4j.Log4jLoggerFactory]\n"
     ]
    }
   ],
   "source": [
    "!hive -S -e \"source question.hql\""
   ]
  },
  {
   "cell_type": "code",
   "execution_count": null,
   "metadata": {},
   "outputs": [],
   "source": []
  }
 ],
 "metadata": {
  "kernelspec": {
   "display_name": "Python 3",
   "language": "python",
   "name": "python3"
  },
  "language_info": {
   "codemirror_mode": {
    "name": "ipython",
    "version": 3
   },
   "file_extension": ".py",
   "mimetype": "text/x-python",
   "name": "python",
   "nbconvert_exporter": "python",
   "pygments_lexer": "ipython3",
   "version": "3.6.9"
  }
 },
 "nbformat": 4,
 "nbformat_minor": 4
}
