{
 "cells": [
  {
   "cell_type": "code",
   "execution_count": 6,
   "metadata": {},
   "outputs": [
    {
     "name": "stdout",
     "output_type": "stream",
     "text": [
      "The bigdata extension is already loaded. To reload it, use:\n",
      "  %reload_ext bigdata\n"
     ]
    }
   ],
   "source": [
    "%load_ext bigdata"
   ]
  },
  {
   "cell_type": "code",
   "execution_count": 7,
   "metadata": {},
   "outputs": [],
   "source": [
    "%hive_start"
   ]
  },
  {
   "cell_type": "code",
   "execution_count": 8,
   "metadata": {},
   "outputs": [],
   "source": [
    "%timeout 300"
   ]
  },
  {
   "cell_type": "code",
   "execution_count": 9,
   "metadata": {},
   "outputs": [
    {
     "name": "stdout",
     "output_type": "stream",
     "text": [
      "DROP TABLE IF EXISTS docs;\n",
      "FAILED: SemanticException org.apache.hadoop.hive.ql.metadata.HiveException: java.lang.RuntimeException: Unable to instantiate org.apache.hadoop.hive.ql.metadata.SessionHiveMetaStoreClient\n",
      "DROP TABLE IF EXISTS docs_ord;\n",
      "FAILED: SemanticException org.apache.hadoop.hive.ql.metadata.HiveException: java.lang.RuntimeException: Unable to instantiate org.apache.hadoop.hive.ql.metadata.SessionHiveMetaStoreClient\n",
      "-- crear tabla\n",
      "CREATE TABLE docs(letra STRING, fecha DATE, valor INT)\n",
      "ROW FORMAT DELIMITED\n",
      "FIELDS TERMINATED BY '\\t'\n",
      "STORED AS TEXTFILE;\n",
      "FAILED: SemanticException org.apache.hadoop.hive.ql.metadata.HiveException: java.lang.RuntimeException: Unable to instantiate org.apache.hadoop.hive.ql.metadata.SessionHiveMetaStoreClient\n",
      "LOAD DATA LOCAL INPATH \"data.tsv\" OVERWRITE INTO TABLE docs;\n",
      "FAILED: SemanticException org.apache.hadoop.hive.ql.metadata.HiveException: java.lang.RuntimeException: Unable to instantiate org.apache.hadoop.hive.ql.metadata.SessionHiveMetaStoreClient\n"
     ]
    }
   ],
   "source": [
    "%%hive\n",
    "DROP TABLE IF EXISTS docs;\n",
    "DROP TABLE IF EXISTS docs_ord;\n",
    "\n",
    "-- crear tabla\n",
    "CREATE TABLE docs(letra STRING, fecha DATE, valor INT)\n",
    "ROW FORMAT DELIMITED\n",
    "FIELDS TERMINATED BY '\\t'\n",
    "STORED AS TEXTFILE;\n",
    "LOAD DATA LOCAL INPATH \"data.tsv\" OVERWRITE INTO TABLE docs;\n"
   ]
  },
  {
   "cell_type": "code",
   "execution_count": null,
   "metadata": {},
   "outputs": [],
   "source": [
    "%%hive\n",
    "SELECT * \n",
    "FROM docs\n",
    "LIMIT 5;"
   ]
  },
  {
   "cell_type": "code",
   "execution_count": 18,
   "metadata": {},
   "outputs": [
    {
     "name": "stdout",
     "output_type": "stream",
     "text": [
      "-- Tabla ordenada por letra y valor\n",
      "CREATE TABLE docs_ord\n",
      "AS\n",
      "    SELECT *\n",
      "    FROM docs\n",
      "--GROUP BY letra, fecha, valor\n",
      "ORDER BY letra, valor;\n",
      "WARNING: Hive-on-MR is deprecated in Hive 2 and may not be available in the future versions. Consider using a different execution engine (i.e. spark, tez) or using Hive 1.X releases.\n",
      "Query ID = root_20200105125809_1378b916-8a12-4720-b151-b73b6cad118f\n",
      "Total jobs = 1\n",
      "Launching Job 1 out of 1\n",
      "Number of reduce tasks determined at compile time: 1\n",
      "In order to change the average load for a reducer (in bytes):\n",
      "  set hive.exec.reducers.bytes.per.reducer=<number>\n",
      "In order to limit the maximum number of reducers:\n",
      "  set hive.exec.reducers.max=<number>\n",
      "In order to set a constant number of reducers:\n",
      "  set mapreduce.job.reduces=<number>\n",
      "Starting Job = job_1578226896651_0005, Tracking URL = http://509aacb85877:8088/proxy/application_1578226896651_0005/\n",
      "Kill Command = /usr/local/hadoop/bin/hadoop job  -kill job_1578226896651_0005\n",
      "Hadoop job information for Stage-1: number of mappers: 1; number of reducers: 1\n",
      "2020-01-05 12:58:27,103 Stage-1 map = 0%,  reduce = 0%\n",
      "2020-01-05 12:58:42,435 Stage-1 map = 100%,  reduce = 0%, Cumulative CPU 1.75 sec\n",
      "2020-01-05 12:58:47,817 Stage-1 map = 100%,  reduce = 100%, Cumulative CPU 3.19 sec\n",
      "MapReduce Total cumulative CPU time: 3 seconds 190 msec\n",
      "Ended Job = job_1578226896651_0005\n",
      "Moving data to directory hdfs://0.0.0.0:9000/user/hive/warehouse/docs_ord\n",
      "MapReduce Jobs Launched: \n",
      "Stage-Stage-1: Map: 1  Reduce: 1   Cumulative CPU: 3.19 sec   HDFS Read: 7926 HDFS Write: 710 SUCCESS\n",
      "Total MapReduce CPU Time Spent: 3 seconds 190 msec\n",
      "OK\n",
      "Time taken: 39.639 seconds\n"
     ]
    }
   ],
   "source": [
    "%%hive\n",
    "-- Tabla ordenada por letra y valor\n",
    "CREATE TABLE docs_ord\n",
    "AS\n",
    "    SELECT *\n",
    "    FROM docs\n",
    "--GROUP BY letra, fecha, valor\n",
    "ORDER BY letra, valor;"
   ]
  },
  {
   "cell_type": "code",
   "execution_count": 19,
   "metadata": {},
   "outputs": [
    {
     "name": "stdout",
     "output_type": "stream",
     "text": [
      "SELECT * FROM docs_ord;\n",
      "OK\n",
      "A\t1990-10-06\t10\n",
      "A\t1990-09-05\t11\n",
      "A\t1988-04-27\t12\n",
      "A\t1990-08-31\t12\n",
      "A\t1997-12-15\t13\n",
      "A\t1994-10-25\t13\n",
      "A\t1993-01-11\t14\n",
      "A\t1992-08-22\t14\n",
      "A\t1990-09-26\t14\n",
      "A\t1993-05-08\t16\n",
      "A\t1990-07-22\t18\n",
      "A\t1992-09-19\t18\n",
      "B\t1995-08-23\t10\n",
      "B\t1999-06-11\t12\n",
      "B\t1998-11-22\t13\n",
      "B\t1999-10-21\t13\n",
      "B\t1997-04-09\t14\n",
      "B\t1995-09-06\t14\n",
      "B\t1993-03-02\t14\n",
      "B\t1999-08-28\t14\n",
      "B\t1991-10-01\t15\n",
      "B\t1994-08-30\t17\n",
      "C\t1994-01-25\t6\n",
      "C\t1994-07-27\t7\n",
      "C\t1991-02-12\t13\n",
      "C\t1994-09-09\t15\n",
      "D\t1990-10-10\t15\n",
      "E\t1994-02-14\t5\n",
      "E\t1999-09-10\t11\n",
      "E\t1999-12-06\t12\n",
      "E\t1993-01-27\t13\n",
      "E\t1991-02-18\t14\n",
      "E\t1999-01-14\t15\n",
      "E\t1990-05-03\t16\n",
      "E\t1998-09-14\t16\n",
      "E\t1985-02-12\t16\n",
      "E\t1995-04-25\t16\n",
      "E\t1993-07-21\t17\n",
      "E\t1990-02-09\t18\n",
      "E\t1993-12-27\t18\n",
      "Time taken: 0.131 seconds, Fetched: 40 row(s)\n"
     ]
    }
   ],
   "source": [
    "%%hive\n",
    "SELECT * FROM docs_ord;"
   ]
  },
  {
   "cell_type": "code",
   "execution_count": 10,
   "metadata": {},
   "outputs": [],
   "source": [
    "%hive_quit"
   ]
  },
  {
   "cell_type": "code",
   "execution_count": 1,
   "metadata": {},
   "outputs": [
    {
     "name": "stdout",
     "output_type": "stream",
     "text": [
      "SLF4J: Class path contains multiple SLF4J bindings.\n",
      "SLF4J: Found binding in [jar:file:/usr/local/hive/lib/log4j-slf4j-impl-2.6.2.jar!/org/slf4j/impl/StaticLoggerBinder.class]\n",
      "SLF4J: Found binding in [jar:file:/usr/local/hadoop/share/hadoop/common/lib/slf4j-log4j12-1.7.10.jar!/org/slf4j/impl/StaticLoggerBinder.class]\n",
      "SLF4J: See http://www.slf4j.org/codes.html#multiple_bindings for an explanation.\n",
      "SLF4J: Actual binding is of type [org.apache.logging.slf4j.Log4jLoggerFactory]\n"
     ]
    }
   ],
   "source": [
    "!hive -S -e 'source question.hql'"
   ]
  },
  {
   "cell_type": "code",
   "execution_count": null,
   "metadata": {},
   "outputs": [],
   "source": []
  },
  {
   "cell_type": "code",
   "execution_count": null,
   "metadata": {},
   "outputs": [],
   "source": []
  }
 ],
 "metadata": {
  "kernelspec": {
   "display_name": "Python 3",
   "language": "python",
   "name": "python3"
  },
  "language_info": {
   "codemirror_mode": {
    "name": "ipython",
    "version": 3
   },
   "file_extension": ".py",
   "mimetype": "text/x-python",
   "name": "python",
   "nbconvert_exporter": "python",
   "pygments_lexer": "ipython3",
   "version": "3.6.9"
  }
 },
 "nbformat": 4,
 "nbformat_minor": 4
}
