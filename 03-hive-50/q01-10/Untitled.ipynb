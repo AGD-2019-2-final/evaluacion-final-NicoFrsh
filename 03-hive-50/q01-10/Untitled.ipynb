{
 "cells": [
  {
   "cell_type": "code",
   "execution_count": 1,
   "metadata": {},
   "outputs": [],
   "source": [
    "%load_ext bigdata"
   ]
  },
  {
   "cell_type": "code",
   "execution_count": 2,
   "metadata": {},
   "outputs": [],
   "source": [
    "%hive_start"
   ]
  },
  {
   "cell_type": "code",
   "execution_count": 2,
   "metadata": {},
   "outputs": [],
   "source": [
    "%timeout 300"
   ]
  },
  {
   "cell_type": "code",
   "execution_count": 3,
   "metadata": {},
   "outputs": [
    {
     "name": "stdout",
     "output_type": "stream",
     "text": [
      "DROP TABLE IF EXISTS docs;\n",
      "OK\n",
      "Time taken: 8.78 seconds\n"
     ]
    }
   ],
   "source": [
    "%%hive\n",
    "DROP TABLE IF EXISTS docs;"
   ]
  },
  {
   "cell_type": "code",
   "execution_count": 4,
   "metadata": {},
   "outputs": [
    {
     "name": "stdout",
     "output_type": "stream",
     "text": [
      "CREATE TABLE docs(letra STRING, fecha DATE, valor INT)\n",
      "ROW FORMAT DELIMITED\n",
      "FIELDS TERMINATED BY '\\t'\n",
      "STORED AS TEXTFILE;\n",
      "OK\n",
      "Time taken: 0.631 seconds\n",
      "LOAD DATA LOCAL INPATH \"data.tsv\" OVERWRITE INTO TABLE docs;\n",
      "Loading data to table default.docs\n",
      "OK\n",
      "Time taken: 1.139 seconds\n"
     ]
    }
   ],
   "source": [
    "%%hive\n",
    "CREATE TABLE docs(letra STRING, fecha DATE, valor INT)\n",
    "ROW FORMAT DELIMITED\n",
    "FIELDS TERMINATED BY '\\t'\n",
    "STORED AS TEXTFILE;\n",
    "LOAD DATA LOCAL INPATH \"data.tsv\" OVERWRITE INTO TABLE docs;"
   ]
  },
  {
   "cell_type": "code",
   "execution_count": 6,
   "metadata": {},
   "outputs": [
    {
     "name": "stdout",
     "output_type": "stream",
     "text": [
      "SELECT * \n",
      "FROM docs\n",
      "WHERE letra = 'B'\n",
      "LIMIT 5;\n",
      "OK\n",
      "B\t1999-08-28\t14\n",
      "B\t1999-06-11\t12\n",
      "B\t1994-08-30\t17\n",
      "B\t1995-08-23\t10\n",
      "B\t1998-11-22\t13\n",
      "Time taken: 2.04 seconds, Fetched: 5 row(s)\n"
     ]
    }
   ],
   "source": [
    "%%hive\n",
    "SELECT * \n",
    "FROM docs\n",
    "WHERE letra = 'B'\n",
    "LIMIT 5;"
   ]
  },
  {
   "cell_type": "code",
   "execution_count": 5,
   "metadata": {},
   "outputs": [
    {
     "name": "stdout",
     "output_type": "stream",
     "text": [
      "SELECT letra, count(1)\n",
      "FROM docs\n",
      "GROUP BY letra\n",
      "ORDER BY letra;\n",
      "WARNING: Hive-on-MR is deprecated in Hive 2 and may not be available in the future versions. Consider using a different execution engine (i.e. spark, tez) or using Hive 1.X releases.\n",
      "Query ID = root_20200117200118_0c5193e1-6316-44f8-9c42-37b34b980bc2\n",
      "Total jobs = 2\n",
      "Launching Job 1 out of 2\n",
      "Number of reduce tasks not specified. Estimated from input data size: 1\n",
      "In order to change the average load for a reducer (in bytes):\n",
      "  set hive.exec.reducers.bytes.per.reducer=<number>\n",
      "In order to limit the maximum number of reducers:\n",
      "  set hive.exec.reducers.max=<number>\n",
      "In order to set a constant number of reducers:\n",
      "  set mapreduce.job.reduces=<number>\n",
      "Starting Job = job_1579289841095_0003, Tracking URL = http://fbf7b963ee9b:8088/proxy/application_1579289841095_0003/\n",
      "Kill Command = /usr/local/hadoop/bin/hadoop job  -kill job_1579289841095_0003\n",
      "Hadoop job information for Stage-1: number of mappers: 1; number of reducers: 1\n",
      "2020-01-17 20:01:28,715 Stage-1 map = 0%,  reduce = 0%\n",
      "2020-01-17 20:01:34,395 Stage-1 map = 100%,  reduce = 0%, Cumulative CPU 1.8 sec\n",
      "2020-01-17 20:01:40,291 Stage-1 map = 100%,  reduce = 100%, Cumulative CPU 3.31 sec\n",
      "MapReduce Total cumulative CPU time: 3 seconds 310 msec\n",
      "Ended Job = job_1579289841095_0003\n",
      "Launching Job 2 out of 2\n",
      "Number of reduce tasks determined at compile time: 1\n",
      "In order to change the average load for a reducer (in bytes):\n",
      "  set hive.exec.reducers.bytes.per.reducer=<number>\n",
      "In order to limit the maximum number of reducers:\n",
      "  set hive.exec.reducers.max=<number>\n",
      "In order to set a constant number of reducers:\n",
      "  set mapreduce.job.reduces=<number>\n",
      "Starting Job = job_1579289841095_0004, Tracking URL = http://fbf7b963ee9b:8088/proxy/application_1579289841095_0004/\n",
      "Kill Command = /usr/local/hadoop/bin/hadoop job  -kill job_1579289841095_0004\n",
      "Hadoop job information for Stage-2: number of mappers: 1; number of reducers: 1\n",
      "2020-01-17 20:01:53,087 Stage-2 map = 0%,  reduce = 0%\n",
      "2020-01-17 20:01:58,566 Stage-2 map = 100%,  reduce = 0%, Cumulative CPU 1.23 sec\n",
      "2020-01-17 20:02:05,179 Stage-2 map = 100%,  reduce = 100%, Cumulative CPU 3.21 sec\n",
      "MapReduce Total cumulative CPU time: 3 seconds 210 msec\n",
      "Ended Job = job_1579289841095_0004\n",
      "MapReduce Jobs Launched: \n",
      "Stage-Stage-1: Map: 1  Reduce: 1   Cumulative CPU: 3.31 sec   HDFS Read: 7979 HDFS Write: 196 SUCCESS\n",
      "Stage-Stage-2: Map: 1  Reduce: 1   Cumulative CPU: 3.21 sec   HDFS Read: 5659 HDFS Write: 170 SUCCESS\n",
      "Total MapReduce CPU Time Spent: 6 seconds 520 msec\n",
      "OK\n",
      "A\t12\n",
      "B\t10\n",
      "C\t4\n",
      "D\t1\n",
      "E\t13\n",
      "Time taken: 47.971 seconds, Fetched: 5 row(s)\n"
     ]
    }
   ],
   "source": [
    "%%hive\n",
    "SELECT letra, count(1)\n",
    "FROM docs\n",
    "GROUP BY letra\n",
    "ORDER BY letra;"
   ]
  },
  {
   "cell_type": "code",
   "execution_count": 9,
   "metadata": {},
   "outputs": [
    {
     "name": "stdout",
     "output_type": "stream",
     "text": [
      "CREATE TABLE reg_count\n",
      "AS\n",
      "    SELECT letra, count(1)\n",
      "    FROM docs\n",
      "GROUP BY letra\n",
      "ORDER BY letra;\n",
      "FAILED: SemanticException org.apache.hadoop.hive.ql.parse.SemanticException: Table already exists: default.reg_count\n"
     ]
    }
   ],
   "source": [
    "%%hive\n",
    "CREATE TABLE reg_count\n",
    "AS\n",
    "    SELECT letra, count(1)\n",
    "    FROM docs\n",
    "GROUP BY letra\n",
    "ORDER BY letra;"
   ]
  },
  {
   "cell_type": "code",
   "execution_count": 10,
   "metadata": {},
   "outputs": [
    {
     "name": "stdout",
     "output_type": "stream",
     "text": [
      "SELECT * FROM reg_count;\n",
      "OK\n",
      "A\t12\n",
      "B\t10\n",
      "C\t4\n",
      "D\t1\n",
      "E\t13\n",
      "Time taken: 0.129 seconds, Fetched: 5 row(s)\n"
     ]
    }
   ],
   "source": [
    "%%hive\n",
    "SELECT * FROM reg_count;"
   ]
  },
  {
   "cell_type": "code",
   "execution_count": 12,
   "metadata": {},
   "outputs": [
    {
     "name": "stdout",
     "output_type": "stream",
     "text": [
      "Found 2 items\n",
      "drwxrwx---   - root supergroup          0 2020-01-05 11:04 /tmp/hadoop-yarn\n",
      "drwxrwxrwx   - root supergroup          0 2020-01-05 11:10 /tmp/hive\n"
     ]
    }
   ],
   "source": [
    "!hdfs dfs -ls /tmp"
   ]
  },
  {
   "cell_type": "code",
   "execution_count": 11,
   "metadata": {},
   "outputs": [
    {
     "name": "stdout",
     "output_type": "stream",
     "text": [
      "MINATED BY '\\t' select * from reg_count; ' ROW FORMAT DELIMITED FIELDS TER \n",
      "WARNING: Hive-on-MR is deprecated in Hive 2 and may not be available in the future versions. Consider using a different execution engine (i.e. spark, tez) or using Hive 1.X releases.\n",
      "Query ID = root_20200109185000_e7484b93-4e00-44d1-8699-e586b0ec7ce6\n",
      "Total jobs = 1\n",
      "Launching Job 1 out of 1\n",
      "Number of reduce tasks is set to 0 since there's no reduce operator\n",
      "Starting Job = job_1578594461952_0005, Tracking URL = http://ffa4992a5690:8088/proxy/application_1578594461952_0005/\n",
      "Kill Command = /usr/local/hadoop/bin/hadoop job  -kill job_1578594461952_0005\n",
      "Hadoop job information for Stage-1: number of mappers: 1; number of reducers: 0\n",
      "2020-01-09 18:50:07,864 Stage-1 map = 0%,  reduce = 0%\n",
      "2020-01-09 18:50:12,215 Stage-1 map = 100%,  reduce = 0%, Cumulative CPU 1.54 sec\n",
      "MapReduce Total cumulative CPU time: 1 seconds 540 msec\n",
      "Ended Job = job_1578594461952_0005\n",
      "Moving data to local directory /output\n",
      "MapReduce Jobs Launched: \n",
      "Stage-Stage-1: Map: 1   Cumulative CPU: 1.54 sec   HDFS Read: 3423 HDFS Write: 23 SUCCESS\n",
      "Total MapReduce CPU Time Spent: 1 seconds 540 msec\n",
      "OK\n",
      "Time taken: 14.126 seconds\n"
     ]
    }
   ],
   "source": [
    "%%hive\n",
    "INSERT OVERWRITE LOCAL DIRECTORY '/output' ROW FORMAT DELIMITED FIELDS TERMINATED BY '\\t' select * from reg_count; "
   ]
  },
  {
   "cell_type": "code",
   "execution_count": 16,
   "metadata": {},
   "outputs": [
    {
     "name": "stdout",
     "output_type": "stream",
     "text": [
      "INSERT OVERWRITE LOCAL DIRECTORY '/output'\n",
      "ROW FORMAT DELIMITED FIELDS TERMINATED BY ','\n",
      "SELECT * FROM reg_count;\n",
      "WARNING: Hive-on-MR is deprecated in Hive 2 and may not be available in the future versions. Consider using a different execution engine (i.e. spark, tez) or using Hive 1.X releases.\n",
      "Query ID = root_20200105114255_037abf49-2dc1-49b6-a8f9-a08e98a152bc\n",
      "Total jobs = 1\n",
      "Launching Job 1 out of 1\n",
      "Number of reduce tasks is set to 0 since there's no reduce operator\n",
      "Starting Job = job_1578222210876_0005, Tracking URL = http://23bc1bde1abe:8088/proxy/application_1578222210876_0005/\n",
      "Kill Command = /usr/local/hadoop/bin/hadoop job  -kill job_1578222210876_0005\n",
      "Hadoop job information for Stage-1: number of mappers: 1; number of reducers: 0\n",
      "2020-01-05 11:43:02,423 Stage-1 map = 0%,  reduce = 0%\n",
      "2020-01-05 11:43:07,799 Stage-1 map = 100%,  reduce = 0%, Cumulative CPU 1.31 sec\n",
      "MapReduce Total cumulative CPU time: 1 seconds 310 msec\n",
      "Ended Job = job_1578222210876_0005\n",
      "Moving data to local directory /output\n",
      "MapReduce Jobs Launched: \n",
      "Stage-Stage-1: Map: 1   Cumulative CPU: 1.31 sec   HDFS Read: 3423 HDFS Write: 23 SUCCESS\n",
      "Total MapReduce CPU Time Spent: 1 seconds 310 msec\n",
      "OK\n",
      "Time taken: 13.605 seconds\n"
     ]
    }
   ],
   "source": [
    "%%hive\n",
    "INSERT OVERWRITE LOCAL DIRECTORY '/output'\n",
    "ROW FORMAT DELIMITED FIELDS TERMINATED BY ','\n",
    "SELECT * FROM reg_count;"
   ]
  },
  {
   "cell_type": "code",
   "execution_count": 31,
   "metadata": {},
   "outputs": [
    {
     "name": "stdout",
     "output_type": "stream",
     "text": [
      "ls: `/tmp/output': No such file or directory\n"
     ]
    }
   ],
   "source": [
    "!hdfs dfs -ls /tmp/output"
   ]
  },
  {
   "cell_type": "code",
   "execution_count": 22,
   "metadata": {},
   "outputs": [],
   "source": [
    "!hdfs dfs -mkdir /tmp/reg_count"
   ]
  },
  {
   "cell_type": "code",
   "execution_count": 25,
   "metadata": {},
   "outputs": [],
   "source": [
    "!hdfs dfs -copyFromLocal data.tsv  /tmp/reg_count/"
   ]
  },
  {
   "cell_type": "code",
   "execution_count": 32,
   "metadata": {},
   "outputs": [
    {
     "name": "stdout",
     "output_type": "stream",
     "text": [
      "SLF4J: Class path contains multiple SLF4J bindings.\n",
      "SLF4J: Found binding in [jar:file:/usr/local/hive/lib/log4j-slf4j-impl-2.6.2.jar!/org/slf4j/impl/StaticLoggerBinder.class]\n",
      "SLF4J: Found binding in [jar:file:/usr/local/hadoop/share/hadoop/common/lib/slf4j-log4j12-1.7.10.jar!/org/slf4j/impl/StaticLoggerBinder.class]\n",
      "SLF4J: See http://www.slf4j.org/codes.html#multiple_bindings for an explanation.\n",
      "SLF4J: Actual binding is of type [org.apache.logging.slf4j.Log4jLoggerFactory]\n",
      "FAILED: SemanticException org.apache.hadoop.hive.ql.metadata.HiveException: java.lang.RuntimeException: Unable to instantiate org.apache.hadoop.hive.ql.metadata.SessionHiveMetaStoreClient\n"
     ]
    }
   ],
   "source": [
    "!hive -S -e 'source question.hql'"
   ]
  },
  {
   "cell_type": "code",
   "execution_count": 6,
   "metadata": {},
   "outputs": [],
   "source": [
    "%hive_quit"
   ]
  },
  {
   "cell_type": "code",
   "execution_count": null,
   "metadata": {},
   "outputs": [],
   "source": []
  }
 ],
 "metadata": {
  "kernelspec": {
   "display_name": "Python 3",
   "language": "python",
   "name": "python3"
  },
  "language_info": {
   "codemirror_mode": {
    "name": "ipython",
    "version": 3
   },
   "file_extension": ".py",
   "mimetype": "text/x-python",
   "name": "python",
   "nbconvert_exporter": "python",
   "pygments_lexer": "ipython3",
   "version": "3.6.9"
  }
 },
 "nbformat": 4,
 "nbformat_minor": 4
}
