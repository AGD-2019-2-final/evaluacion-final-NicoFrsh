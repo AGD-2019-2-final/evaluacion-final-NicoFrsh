{
 "cells": [
  {
   "cell_type": "code",
   "execution_count": 2,
   "metadata": {},
   "outputs": [
    {
     "name": "stdout",
     "output_type": "stream",
     "text": [
      "The bigdata extension is already loaded. To reload it, use:\n",
      "  %reload_ext bigdata\n"
     ]
    }
   ],
   "source": [
    "%load_ext bigdata"
   ]
  },
  {
   "cell_type": "code",
   "execution_count": 3,
   "metadata": {},
   "outputs": [],
   "source": [
    "%hive_start"
   ]
  },
  {
   "cell_type": "code",
   "execution_count": 4,
   "metadata": {},
   "outputs": [],
   "source": [
    "%timeout 300"
   ]
  },
  {
   "cell_type": "code",
   "execution_count": 5,
   "metadata": {},
   "outputs": [
    {
     "name": "stdout",
     "output_type": "stream",
     "text": [
      "DROP TABLE IF EXISTS docs;\n",
      "OK\n",
      "Time taken: 10.246 seconds\n",
      "DROP TABLE IF EXISTS docs_ord;\n",
      "OK\n",
      "Time taken: 0.548 seconds\n"
     ]
    }
   ],
   "source": [
    "%%hive\n",
    "DROP TABLE IF EXISTS docs;\n",
    "DROP TABLE IF EXISTS docs_ord;"
   ]
  },
  {
   "cell_type": "code",
   "execution_count": 7,
   "metadata": {},
   "outputs": [
    {
     "name": "stdout",
     "output_type": "stream",
     "text": [
      "DROP TABLE IF EXISTS docs;\n",
      "OK\n",
      "Time taken: 0.085 seconds\n",
      "DROP TABLE IF EXISTS docs_ord;\n",
      "OK\n",
      "Time taken: 0.027 seconds\n",
      "-- crear tabla\n",
      "CREATE TABLE docs(letra STRING, fecha DATE, valor INT)\n",
      "ROW FORMAT DELIMITED\n",
      "FIELDS TERMINATED BY '\\t'\n",
      "STORED AS TEXTFILE;\n",
      "OK\n",
      "Time taken: 0.067 seconds\n",
      "LOAD DATA LOCAL INPATH \"data.tsv\" OVERWRITE INTO TABLE docs;\n",
      "Loading data to table default.docs\n",
      "OK\n",
      "Time taken: 1.102 seconds\n",
      "SELECT * FROM docs LIMIT 5;\n",
      "OK\n",
      "B\t1999-08-28\t14\n",
      "E\t1999-12-06\t12\n",
      "E\t1993-07-21\t17\n",
      "C\t1991-02-12\t13\n",
      "E\t1995-04-25\t16\n",
      "Time taken: 1.592 seconds, Fetched: 5 row(s)\n"
     ]
    }
   ],
   "source": [
    "%%hive\n",
    "DROP TABLE IF EXISTS docs;\n",
    "DROP TABLE IF EXISTS docs_ord;\n",
    "-- crear tabla\n",
    "CREATE TABLE docs(letra STRING, fecha DATE, valor INT)\n",
    "ROW FORMAT DELIMITED\n",
    "FIELDS TERMINATED BY '\\t'\n",
    "STORED AS TEXTFILE;\n",
    "LOAD DATA LOCAL INPATH \"data.tsv\" OVERWRITE INTO TABLE docs;\n",
    "SELECT * FROM docs LIMIT 5;"
   ]
  },
  {
   "cell_type": "code",
   "execution_count": 20,
   "metadata": {},
   "outputs": [
    {
     "name": "stdout",
     "output_type": "stream",
     "text": [
      "DROP TABLE IF EXISTS docs_min;\n",
      "OK\n",
      "Time taken: 0.01 seconds\n",
      "-- 5 valores diferentes mas pequenos de la tercera columna\n",
      "CREATE TABLE docs_min\n",
      "AS\n",
      "    SELECT distinct(valor)\n",
      "    FROM docs\n",
      "ORDER BY valor\n",
      "LIMIT 5;\n",
      "WARNING: Hive-on-MR is deprecated in Hive 2 and may not be available in the future versions. Consider using a different execution engine (i.e. spark, tez) or using Hive 1.X releases.\n",
      "Query ID = root_20200105132043_a2b63813-444a-4373-9715-49f2991bdcbe\n",
      "Total jobs = 2\n",
      "Launching Job 1 out of 2\n",
      "Number of reduce tasks not specified. Estimated from input data size: 1\n",
      "In order to change the average load for a reducer (in bytes):\n",
      "  set hive.exec.reducers.bytes.per.reducer=<number>\n",
      "In order to limit the maximum number of reducers:\n",
      "  set hive.exec.reducers.max=<number>\n",
      "In order to set a constant number of reducers:\n",
      "  set mapreduce.job.reduces=<number>\n",
      "Starting Job = job_1578226896651_0011, Tracking URL = http://509aacb85877:8088/proxy/application_1578226896651_0011/\n",
      "Kill Command = /usr/local/hadoop/bin/hadoop job  -kill job_1578226896651_0011\n",
      "Hadoop job information for Stage-1: number of mappers: 1; number of reducers: 1\n",
      "2020-01-05 13:20:50,634 Stage-1 map = 0%,  reduce = 0%\n",
      "2020-01-05 13:20:56,005 Stage-1 map = 100%,  reduce = 0%, Cumulative CPU 1.44 sec\n",
      "2020-01-05 13:21:01,385 Stage-1 map = 100%,  reduce = 100%, Cumulative CPU 2.67 sec\n",
      "MapReduce Total cumulative CPU time: 2 seconds 670 msec\n",
      "Ended Job = job_1578226896651_0011\n",
      "Launching Job 2 out of 2\n",
      "Number of reduce tasks determined at compile time: 1\n",
      "In order to change the average load for a reducer (in bytes):\n",
      "  set hive.exec.reducers.bytes.per.reducer=<number>\n",
      "In order to limit the maximum number of reducers:\n",
      "  set hive.exec.reducers.max=<number>\n",
      "In order to set a constant number of reducers:\n",
      "  set mapreduce.job.reduces=<number>\n",
      "Starting Job = job_1578226896651_0012, Tracking URL = http://509aacb85877:8088/proxy/application_1578226896651_0012/\n",
      "Kill Command = /usr/local/hadoop/bin/hadoop job  -kill job_1578226896651_0012\n",
      "Hadoop job information for Stage-2: number of mappers: 1; number of reducers: 1\n",
      "2020-01-05 13:21:13,999 Stage-2 map = 0%,  reduce = 0%\n",
      "2020-01-05 13:21:23,753 Stage-2 map = 100%,  reduce = 0%, Cumulative CPU 1.12 sec\n",
      "2020-01-05 13:21:35,608 Stage-2 map = 100%,  reduce = 100%, Cumulative CPU 2.7 sec\n",
      "MapReduce Total cumulative CPU time: 2 seconds 700 msec\n",
      "Ended Job = job_1578226896651_0012\n",
      "Moving data to directory hdfs://0.0.0.0:9000/user/hive/warehouse/docs_min\n",
      "MapReduce Jobs Launched: \n",
      "Stage-Stage-1: Map: 1  Reduce: 1   Cumulative CPU: 2.67 sec   HDFS Read: 7465 HDFS Write: 186 SUCCESS\n",
      "Stage-Stage-2: Map: 1  Reduce: 1   Cumulative CPU: 2.7 sec   HDFS Read: 4838 HDFS Write: 84 SUCCESS\n",
      "Total MapReduce CPU Time Spent: 5 seconds 370 msec\n",
      "OK\n",
      "Time taken: 54.788 seconds\n"
     ]
    }
   ],
   "source": [
    "%%hive\n",
    "DROP TABLE IF EXISTS docs_min;\n",
    "-- 5 valores diferentes mas pequenos de la tercera columna\n",
    "CREATE TABLE docs_min\n",
    "AS\n",
    "    SELECT distinct(valor)\n",
    "    FROM docs\n",
    "ORDER BY valor\n",
    "LIMIT 5;"
   ]
  },
  {
   "cell_type": "code",
   "execution_count": 21,
   "metadata": {},
   "outputs": [
    {
     "name": "stdout",
     "output_type": "stream",
     "text": [
      "SELECT * FROM docs_min;\n",
      "OK\n",
      "5\n",
      "6\n",
      "7\n",
      "10\n",
      "11\n",
      "Time taken: 0.12 seconds, Fetched: 5 row(s)\n"
     ]
    }
   ],
   "source": [
    "%%hive\n",
    "SELECT * FROM docs_min;"
   ]
  },
  {
   "cell_type": "code",
   "execution_count": 22,
   "metadata": {},
   "outputs": [],
   "source": [
    "%hive_quit"
   ]
  },
  {
   "cell_type": "code",
   "execution_count": 1,
   "metadata": {},
   "outputs": [
    {
     "name": "stdout",
     "output_type": "stream",
     "text": [
      "SLF4J: Class path contains multiple SLF4J bindings.\n",
      "SLF4J: Found binding in [jar:file:/usr/local/hive/lib/log4j-slf4j-impl-2.6.2.jar!/org/slf4j/impl/StaticLoggerBinder.class]\n",
      "SLF4J: Found binding in [jar:file:/usr/local/hadoop/share/hadoop/common/lib/slf4j-log4j12-1.7.10.jar!/org/slf4j/impl/StaticLoggerBinder.class]\n",
      "SLF4J: See http://www.slf4j.org/codes.html#multiple_bindings for an explanation.\n",
      "SLF4J: Actual binding is of type [org.apache.logging.slf4j.Log4jLoggerFactory]\n"
     ]
    }
   ],
   "source": [
    "!hive -S -e \"source question.hql\""
   ]
  },
  {
   "cell_type": "code",
   "execution_count": null,
   "metadata": {},
   "outputs": [],
   "source": []
  }
 ],
 "metadata": {
  "kernelspec": {
   "display_name": "Python 3",
   "language": "python",
   "name": "python3"
  },
  "language_info": {
   "codemirror_mode": {
    "name": "ipython",
    "version": 3
   },
   "file_extension": ".py",
   "mimetype": "text/x-python",
   "name": "python",
   "nbconvert_exporter": "python",
   "pygments_lexer": "ipython3",
   "version": "3.6.9"
  }
 },
 "nbformat": 4,
 "nbformat_minor": 4
}
