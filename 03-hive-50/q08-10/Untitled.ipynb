{
 "cells": [
  {
   "cell_type": "code",
   "execution_count": 1,
   "metadata": {},
   "outputs": [],
   "source": [
    "%load_ext bigdata\n",
    "%timeout 300"
   ]
  },
  {
   "cell_type": "code",
   "execution_count": 2,
   "metadata": {},
   "outputs": [
    {
     "name": "stdout",
     "output_type": "stream",
     "text": [
      "DROP TABLE IF EXISTS tbl0;\n",
      "OK\n",
      "Time taken: 9.689 seconds\n",
      "CREATE TABLE tbl0 (\n",
      "    c1 INT,\n",
      "    c2 STRING,\n",
      "    c3 INT,\n",
      "    c4 DATE,\n",
      "    c5 ARRAY<CHAR(1)>, \n",
      "    c6 MAP<STRING, INT>\n",
      ")\n",
      "ROW FORMAT DELIMITED \n",
      "FIELDS TERMINATED BY ','\n",
      "COLLECTION ITEMS TERMINATED BY ':'\n",
      "MAP KEYS TERMINATED BY '#'\n",
      "LINES TERMINATED BY '\\n';\n",
      "OK\n",
      "Time taken: 0.788 seconds\n",
      "LOAD DATA LOCAL INPATH 'tbl0.csv' INTO TABLE tbl0;\n",
      "Loading data to table default.tbl0\n",
      "OK\n",
      "Time taken: 1.914 seconds\n",
      "--\n",
      "DROP TABLE IF EXISTS tbl1;\n",
      "OK\n",
      "Time taken: 0.009 seconds\n",
      "CREATE TABLE tbl1 (\n",
      "    c1 INT,\n",
      "    c2 INT,\n",
      "    c3 STRING,\n",
      "    c4 MAP<STRING, INT>\n",
      ")\n",
      "ROW FORMAT DELIMITED \n",
      "FIELDS TERMINATED BY ','\n",
      "COLLECTION ITEMS TERMINATED BY ':'\n",
      "MAP KEYS TERMINATED BY '#'\n",
      "LINES TERMINATED BY '\\n';\n",
      "OK\n",
      "Time taken: 0.073 seconds\n",
      "LOAD DATA LOCAL INPATH 'tbl1.csv' INTO TABLE tbl1;\n",
      "Loading data to table default.tbl1\n",
      "OK\n",
      "Time taken: 0.734 seconds\n"
     ]
    }
   ],
   "source": [
    "%%hive\n",
    "DROP TABLE IF EXISTS tbl0;\n",
    "CREATE TABLE tbl0 (\n",
    "    c1 INT,\n",
    "    c2 STRING,\n",
    "    c3 INT,\n",
    "    c4 DATE,\n",
    "    c5 ARRAY<CHAR(1)>, \n",
    "    c6 MAP<STRING, INT>\n",
    ")\n",
    "ROW FORMAT DELIMITED \n",
    "FIELDS TERMINATED BY ','\n",
    "COLLECTION ITEMS TERMINATED BY ':'\n",
    "MAP KEYS TERMINATED BY '#'\n",
    "LINES TERMINATED BY '\\n';\n",
    "LOAD DATA LOCAL INPATH 'tbl0.csv' INTO TABLE tbl0;\n",
    "--\n",
    "DROP TABLE IF EXISTS tbl1;\n",
    "CREATE TABLE tbl1 (\n",
    "    c1 INT,\n",
    "    c2 INT,\n",
    "    c3 STRING,\n",
    "    c4 MAP<STRING, INT>\n",
    ")\n",
    "ROW FORMAT DELIMITED \n",
    "FIELDS TERMINATED BY ','\n",
    "COLLECTION ITEMS TERMINATED BY ':'\n",
    "MAP KEYS TERMINATED BY '#'\n",
    "LINES TERMINATED BY '\\n';\n",
    "LOAD DATA LOCAL INPATH 'tbl1.csv' INTO TABLE tbl1;"
   ]
  },
  {
   "cell_type": "code",
   "execution_count": 3,
   "metadata": {},
   "outputs": [
    {
     "name": "stdout",
     "output_type": "stream",
     "text": [
      "SELECT c2, sum(val)\n",
      "FROM tbl0\n",
      "LATERAL VIEW EXPLODE(c6) b as key,val\n",
      "GROUP BY c2;\n",
      "WARNING: Hive-on-MR is deprecated in Hive 2 and may not be available in the future versions. Consider using a different execution engine (i.e. spark, tez) or using Hive 1.X releases.\n",
      "Query ID = root_20200110191507_8c69fed1-9d82-4ed6-9c16-d1b7db5e6dc1\n",
      "Total jobs = 1\n",
      "Launching Job 1 out of 1\n",
      "Number of reduce tasks not specified. Estimated from input data size: 1\n",
      "In order to change the average load for a reducer (in bytes):\n",
      "  set hive.exec.reducers.bytes.per.reducer=<number>\n",
      "In order to limit the maximum number of reducers:\n",
      "  set hive.exec.reducers.max=<number>\n",
      "In order to set a constant number of reducers:\n",
      "  set mapreduce.job.reduces=<number>\n",
      "Starting Job = job_1578683522537_0001, Tracking URL = http://1c2526b1a65e:8088/proxy/application_1578683522537_0001/\n",
      "Kill Command = /usr/local/hadoop/bin/hadoop job  -kill job_1578683522537_0001\n",
      "Hadoop job information for Stage-1: number of mappers: 1; number of reducers: 1\n",
      "2020-01-10 19:15:21,023 Stage-1 map = 0%,  reduce = 0%\n",
      "2020-01-10 19:15:27,736 Stage-1 map = 100%,  reduce = 0%, Cumulative CPU 2.68 sec\n",
      "2020-01-10 19:15:35,467 Stage-1 map = 100%,  reduce = 100%, Cumulative CPU 5.19 sec\n",
      "MapReduce Total cumulative CPU time: 5 seconds 190 msec\n",
      "Ended Job = job_1578683522537_0001\n",
      "MapReduce Jobs Launched: \n",
      "Stage-Stage-1: Map: 1  Reduce: 1   Cumulative CPU: 5.19 sec   HDFS Read: 12596 HDFS Write: 158 SUCCESS\n",
      "Total MapReduce CPU Time Spent: 5 seconds 190 msec\n",
      "OK\n",
      "A\t20\n",
      "B\t200\n",
      "C\t130\n",
      "D\t220\n",
      "Time taken: 30.342 seconds, Fetched: 4 row(s)\n"
     ]
    }
   ],
   "source": [
    "%%hive\n",
    "SELECT c2, sum(val)\n",
    "FROM tbl0\n",
    "LATERAL VIEW EXPLODE(c6) b as key,val\n",
    "GROUP BY c2;"
   ]
  },
  {
   "cell_type": "code",
   "execution_count": 19,
   "metadata": {},
   "outputs": [
    {
     "name": "stdout",
     "output_type": "stream",
     "text": [
      "SELECT val FROM (SELECT EXPLODE(c6) AS (key,val) FROM tbl0) tbl0;\n",
      "OK\n",
      "10\n",
      "20\n",
      "40\n",
      "40\n",
      "20\n",
      "10\n",
      "10\n",
      "40\n",
      "40\n",
      "20\n",
      "10\n",
      "30\n",
      "10\n",
      "20\n",
      "20\n",
      "20\n",
      "10\n",
      "20\n",
      "40\n",
      "10\n",
      "30\n",
      "20\n",
      "10\n",
      "40\n",
      "30\n",
      "Time taken: 0.141 seconds, Fetched: 25 row(s)\n"
     ]
    }
   ],
   "source": [
    "%%hive\n",
    "SELECT val FROM (SELECT EXPLODE(c6) AS (key,val) FROM tbl0) tbl0;"
   ]
  },
  {
   "cell_type": "code",
   "execution_count": 38,
   "metadata": {},
   "outputs": [
    {
     "name": "stdout",
     "output_type": "stream",
     "text": [
      "SELECT c2, collect_list(val)\n",
      "FROM tbl0\n",
      "LATERAL VIEW explode(c6) e1 as key,val  \n",
      "GROUP BY c2; \n",
      "WARNING: Hive-on-MR is deprecated in Hive 2 and may not be available in the future versions. Consider using a different execution engine (i.e. spark, tez) or using Hive 1.X releases.\n",
      "Query ID = root_20200109233235_1cb8cca6-b799-4af3-a738-6dbbf1d95059\n",
      "Total jobs = 1\n",
      "Launching Job 1 out of 1\n",
      "Number of reduce tasks not specified. Estimated from input data size: 1\n",
      "In order to change the average load for a reducer (in bytes):\n",
      "  set hive.exec.reducers.bytes.per.reducer=<number>\n",
      "In order to limit the maximum number of reducers:\n",
      "  set hive.exec.reducers.max=<number>\n",
      "In order to set a constant number of reducers:\n",
      "  set mapreduce.job.reduces=<number>\n",
      "Starting Job = job_1578597294796_0028, Tracking URL = http://508e70f76d54:8088/proxy/application_1578597294796_0028/\n",
      "Kill Command = /usr/local/hadoop/bin/hadoop job  -kill job_1578597294796_0028\n",
      "Hadoop job information for Stage-1: number of mappers: 1; number of reducers: 1\n",
      "2020-01-09 23:32:43,460 Stage-1 map = 0%,  reduce = 0%\n",
      "2020-01-09 23:32:47,745 Stage-1 map = 100%,  reduce = 0%, Cumulative CPU 1.48 sec\n",
      "2020-01-09 23:32:54,215 Stage-1 map = 100%,  reduce = 100%, Cumulative CPU 3.16 sec\n",
      "MapReduce Total cumulative CPU time: 3 seconds 160 msec\n",
      "Ended Job = job_1578597294796_0028\n",
      "MapReduce Jobs Launched: \n",
      "Stage-Stage-1: Map: 1  Reduce: 1   Cumulative CPU: 3.16 sec   HDFS Read: 12698 HDFS Write: 218 SUCCESS\n",
      "Total MapReduce CPU Time Spent: 3 seconds 160 msec\n",
      "OK\n",
      "A\t[20]\n",
      "B\t[20,40,10,30,20,10,40,30]\n",
      "C\t[40,20,10,10,20,10,20]\n",
      "D\t[10,20,40,10,40,40,20,10,30]\n",
      "Time taken: 20.301 seconds, Fetched: 4 row(s)\n"
     ]
    }
   ],
   "source": [
    "%%hive\n",
    "SELECT c2, collect_list(val)\n",
    "FROM tbl0\n",
    "LATERAL VIEW explode(c6) e1 as key,val  \n",
    "GROUP BY c2; "
   ]
  },
  {
   "cell_type": "code",
   "execution_count": 4,
   "metadata": {},
   "outputs": [],
   "source": [
    "%hive_quit"
   ]
  },
  {
   "cell_type": "code",
   "execution_count": 1,
   "metadata": {},
   "outputs": [
    {
     "name": "stdout",
     "output_type": "stream",
     "text": [
      "SLF4J: Class path contains multiple SLF4J bindings.\n",
      "SLF4J: Found binding in [jar:file:/usr/local/hive/lib/log4j-slf4j-impl-2.6.2.jar!/org/slf4j/impl/StaticLoggerBinder.class]\n",
      "SLF4J: Found binding in [jar:file:/usr/local/hadoop/share/hadoop/common/lib/slf4j-log4j12-1.7.10.jar!/org/slf4j/impl/StaticLoggerBinder.class]\n",
      "SLF4J: See http://www.slf4j.org/codes.html#multiple_bindings for an explanation.\n",
      "SLF4J: Actual binding is of type [org.apache.logging.slf4j.Log4jLoggerFactory]\n"
     ]
    }
   ],
   "source": [
    "!hive -S -e \"source question.hql\""
   ]
  },
  {
   "cell_type": "code",
   "execution_count": null,
   "metadata": {},
   "outputs": [],
   "source": []
  }
 ],
 "metadata": {
  "kernelspec": {
   "display_name": "Python 3",
   "language": "python",
   "name": "python3"
  },
  "language_info": {
   "codemirror_mode": {
    "name": "ipython",
    "version": 3
   },
   "file_extension": ".py",
   "mimetype": "text/x-python",
   "name": "python",
   "nbconvert_exporter": "python",
   "pygments_lexer": "ipython3",
   "version": "3.6.9"
  }
 },
 "nbformat": 4,
 "nbformat_minor": 4
}
